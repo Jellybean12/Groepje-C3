{
 "cells": [
  {
   "cell_type": "code",
   "execution_count": 245,
   "metadata": {},
   "outputs": [],
   "source": [
    "import numpy as np\n",
    "import pandas as pd\n",
    "import seaborn as sns\n",
    "import csv\n",
    "import datetime\n",
    "import sys\n",
    "from datetime import datetime\n",
    "%matplotlib inline"
   ]
  },
  {
   "cell_type": "code",
   "execution_count": 246,
   "metadata": {},
   "outputs": [],
   "source": [
    "df= pd.read_csv('chartdiv_prov_overijssel_nl_east_rsat2_dsc_s3_v3_ds_punten_grid_size_300.0_scale_15000_threshold_4RSAT-S3 dsc DS.csv',sep=',\"',decimal=\",\",engine='python')"
   ]
  },
  {
   "cell_type": "code",
   "execution_count": 247,
   "metadata": {},
   "outputs": [
    {
     "data": {
      "text/html": [
       "<div>\n",
       "<style scoped>\n",
       "    .dataframe tbody tr th:only-of-type {\n",
       "        vertical-align: middle;\n",
       "    }\n",
       "\n",
       "    .dataframe tbody tr th {\n",
       "        vertical-align: top;\n",
       "    }\n",
       "\n",
       "    .dataframe thead th {\n",
       "        text-align: right;\n",
       "    }\n",
       "</style>\n",
       "<table border=\"1\" class=\"dataframe\">\n",
       "  <thead>\n",
       "    <tr style=\"text-align: right;\">\n",
       "      <th></th>\n",
       "      <th>\"date</th>\n",
       "      <th>\"deformation\"\"</th>\n",
       "      <th>\"defo_est\"\"</th>\n",
       "      <th>\"deformation_high\"\"</th>\n",
       "      <th>\"deformation_low\"\"</th>\n",
       "      <th>\"unit\"\"\"</th>\n",
       "    </tr>\n",
       "  </thead>\n",
       "  <tbody>\n",
       "    <tr>\n",
       "      <th>0</th>\n",
       "      <td>\"2010-06-03</td>\n",
       "      <td>\"0.0\"\"</td>\n",
       "      <td>\"-1.1\"\"</td>\n",
       "      <td>\"26.0\"\"</td>\n",
       "      <td>\"-26.0\"\"</td>\n",
       "      <td>\"mm\"\"\"</td>\n",
       "    </tr>\n",
       "    <tr>\n",
       "      <th>1</th>\n",
       "      <td>\"2010-06-27</td>\n",
       "      <td>\"-1.4\"\"</td>\n",
       "      <td>\"-1.1\"\"</td>\n",
       "      <td>\"24.6\"\"</td>\n",
       "      <td>\"-27.4\"\"</td>\n",
       "      <td>\"mm\"\"\"</td>\n",
       "    </tr>\n",
       "    <tr>\n",
       "      <th>2</th>\n",
       "      <td>\"2010-07-21</td>\n",
       "      <td>\"0.8\"\"</td>\n",
       "      <td>\"-1.2\"\"</td>\n",
       "      <td>\"26.8\"\"</td>\n",
       "      <td>\"-25.2\"\"</td>\n",
       "      <td>\"mm\"\"\"</td>\n",
       "    </tr>\n",
       "    <tr>\n",
       "      <th>3</th>\n",
       "      <td>\"2010-08-14</td>\n",
       "      <td>\"-1.0\"\"</td>\n",
       "      <td>\"-1.2\"\"</td>\n",
       "      <td>\"25.0\"\"</td>\n",
       "      <td>\"-27.0\"\"</td>\n",
       "      <td>\"mm\"\"\"</td>\n",
       "    </tr>\n",
       "    <tr>\n",
       "      <th>4</th>\n",
       "      <td>\"2010-09-07</td>\n",
       "      <td>\"-1.2\"\"</td>\n",
       "      <td>\"-1.2\"\"</td>\n",
       "      <td>\"24.8\"\"</td>\n",
       "      <td>\"-27.2\"\"</td>\n",
       "      <td>\"mm\"\"\"</td>\n",
       "    </tr>\n",
       "  </tbody>\n",
       "</table>\n",
       "</div>"
      ],
      "text/plain": [
       "         \"date \"deformation\"\" \"defo_est\"\" \"deformation_high\"\"  \\\n",
       "0  \"2010-06-03         \"0.0\"\"     \"-1.1\"\"             \"26.0\"\"   \n",
       "1  \"2010-06-27        \"-1.4\"\"     \"-1.1\"\"             \"24.6\"\"   \n",
       "2  \"2010-07-21         \"0.8\"\"     \"-1.2\"\"             \"26.8\"\"   \n",
       "3  \"2010-08-14        \"-1.0\"\"     \"-1.2\"\"             \"25.0\"\"   \n",
       "4  \"2010-09-07        \"-1.2\"\"     \"-1.2\"\"             \"24.8\"\"   \n",
       "\n",
       "  \"deformation_low\"\" \"unit\"\"\"  \n",
       "0           \"-26.0\"\"   \"mm\"\"\"  \n",
       "1           \"-27.4\"\"   \"mm\"\"\"  \n",
       "2           \"-25.2\"\"   \"mm\"\"\"  \n",
       "3           \"-27.0\"\"   \"mm\"\"\"  \n",
       "4           \"-27.2\"\"   \"mm\"\"\"  "
      ]
     },
     "execution_count": 247,
     "metadata": {},
     "output_type": "execute_result"
    }
   ],
   "source": [
    "df.head()"
   ]
  },
  {
   "cell_type": "code",
   "execution_count": 248,
   "metadata": {},
   "outputs": [],
   "source": [
    "def verwijderen(df):\n",
    "    df.columns= df.columns.str.replace('\"','')\n",
    "    df.columns= df.columns.str.replace('.','')\n",
    "    for i in range(6):   \n",
    "     df.iloc[:,i]=df.iloc[:,i].str.replace('\"','')\n",
    "      \n",
    "    return df\n",
    "\n"
   ]
  },
  {
   "cell_type": "code",
   "execution_count": 249,
   "metadata": {},
   "outputs": [],
   "source": [
    "df1=verwijderen(df)"
   ]
  },
  {
   "cell_type": "code",
   "execution_count": 250,
   "metadata": {},
   "outputs": [
    {
     "data": {
      "text/html": [
       "<div>\n",
       "<style scoped>\n",
       "    .dataframe tbody tr th:only-of-type {\n",
       "        vertical-align: middle;\n",
       "    }\n",
       "\n",
       "    .dataframe tbody tr th {\n",
       "        vertical-align: top;\n",
       "    }\n",
       "\n",
       "    .dataframe thead th {\n",
       "        text-align: right;\n",
       "    }\n",
       "</style>\n",
       "<table border=\"1\" class=\"dataframe\">\n",
       "  <thead>\n",
       "    <tr style=\"text-align: right;\">\n",
       "      <th></th>\n",
       "      <th>date</th>\n",
       "      <th>deformation</th>\n",
       "      <th>defo_est</th>\n",
       "      <th>deformation_high</th>\n",
       "      <th>deformation_low</th>\n",
       "      <th>unit</th>\n",
       "    </tr>\n",
       "  </thead>\n",
       "  <tbody>\n",
       "    <tr>\n",
       "      <th>0</th>\n",
       "      <td>2010-06-03</td>\n",
       "      <td>0.0</td>\n",
       "      <td>-1.1</td>\n",
       "      <td>26.0</td>\n",
       "      <td>-26.0</td>\n",
       "      <td>mm</td>\n",
       "    </tr>\n",
       "    <tr>\n",
       "      <th>1</th>\n",
       "      <td>2010-06-27</td>\n",
       "      <td>-1.4</td>\n",
       "      <td>-1.1</td>\n",
       "      <td>24.6</td>\n",
       "      <td>-27.4</td>\n",
       "      <td>mm</td>\n",
       "    </tr>\n",
       "    <tr>\n",
       "      <th>2</th>\n",
       "      <td>2010-07-21</td>\n",
       "      <td>0.8</td>\n",
       "      <td>-1.2</td>\n",
       "      <td>26.8</td>\n",
       "      <td>-25.2</td>\n",
       "      <td>mm</td>\n",
       "    </tr>\n",
       "    <tr>\n",
       "      <th>3</th>\n",
       "      <td>2010-08-14</td>\n",
       "      <td>-1.0</td>\n",
       "      <td>-1.2</td>\n",
       "      <td>25.0</td>\n",
       "      <td>-27.0</td>\n",
       "      <td>mm</td>\n",
       "    </tr>\n",
       "    <tr>\n",
       "      <th>4</th>\n",
       "      <td>2010-09-07</td>\n",
       "      <td>-1.2</td>\n",
       "      <td>-1.2</td>\n",
       "      <td>24.8</td>\n",
       "      <td>-27.2</td>\n",
       "      <td>mm</td>\n",
       "    </tr>\n",
       "  </tbody>\n",
       "</table>\n",
       "</div>"
      ],
      "text/plain": [
       "         date deformation defo_est deformation_high deformation_low unit\n",
       "0  2010-06-03         0.0     -1.1             26.0           -26.0   mm\n",
       "1  2010-06-27        -1.4     -1.1             24.6           -27.4   mm\n",
       "2  2010-07-21         0.8     -1.2             26.8           -25.2   mm\n",
       "3  2010-08-14        -1.0     -1.2             25.0           -27.0   mm\n",
       "4  2010-09-07        -1.2     -1.2             24.8           -27.2   mm"
      ]
     },
     "execution_count": 250,
     "metadata": {},
     "output_type": "execute_result"
    }
   ],
   "source": [
    "df1.head()\n",
    "#testing"
   ]
  },
  {
   "cell_type": "code",
   "execution_count": 251,
   "metadata": {},
   "outputs": [
    {
     "data": {
      "text/plain": [
       "date                object\n",
       "deformation         object\n",
       "defo_est            object\n",
       "deformation_high    object\n",
       "deformation_low     object\n",
       "unit                object\n",
       "dtype: object"
      ]
     },
     "execution_count": 251,
     "metadata": {},
     "output_type": "execute_result"
    }
   ],
   "source": [
    "df1.dtypes"
   ]
  },
  {
   "cell_type": "code",
   "execution_count": 282,
   "metadata": {},
   "outputs": [],
   "source": [
    "def typeconverter(df):\n",
    "\n",
    "    \n",
    "    verwijderen(df)\n",
    "    df1= df[[\"deformation\",\"defo_est\",\"deformation_high\",\"deformation_low\"]].astype(np.float64)\n",
    "    df1= pd.DataFrame(df1)\n",
    "    df2= pd.to_datetime(df['date'],yearfirst=True)\n",
    "    df2= pd.DataFrame(df2)\n",
    "    df1['date']=df2['date']\n",
    "    df1= df1[['date',\"deformation\",\"defo_est\",\"deformation_high\",\"deformation_low\"]]\n",
    "   \n",
    "    return df1"
   ]
  },
  {
   "cell_type": "code",
   "execution_count": 284,
   "metadata": {},
   "outputs": [
    {
     "data": {
      "text/html": [
       "<div>\n",
       "<style scoped>\n",
       "    .dataframe tbody tr th:only-of-type {\n",
       "        vertical-align: middle;\n",
       "    }\n",
       "\n",
       "    .dataframe tbody tr th {\n",
       "        vertical-align: top;\n",
       "    }\n",
       "\n",
       "    .dataframe thead th {\n",
       "        text-align: right;\n",
       "    }\n",
       "</style>\n",
       "<table border=\"1\" class=\"dataframe\">\n",
       "  <thead>\n",
       "    <tr style=\"text-align: right;\">\n",
       "      <th></th>\n",
       "      <th>date</th>\n",
       "      <th>deformation</th>\n",
       "      <th>defo_est</th>\n",
       "      <th>deformation_high</th>\n",
       "      <th>deformation_low</th>\n",
       "    </tr>\n",
       "  </thead>\n",
       "  <tbody>\n",
       "    <tr>\n",
       "      <th>0</th>\n",
       "      <td>2010-06-03</td>\n",
       "      <td>0.0</td>\n",
       "      <td>-1.1</td>\n",
       "      <td>26.0</td>\n",
       "      <td>-26.0</td>\n",
       "    </tr>\n",
       "    <tr>\n",
       "      <th>1</th>\n",
       "      <td>2010-06-27</td>\n",
       "      <td>-1.4</td>\n",
       "      <td>-1.1</td>\n",
       "      <td>24.6</td>\n",
       "      <td>-27.4</td>\n",
       "    </tr>\n",
       "    <tr>\n",
       "      <th>2</th>\n",
       "      <td>2010-07-21</td>\n",
       "      <td>0.8</td>\n",
       "      <td>-1.2</td>\n",
       "      <td>26.8</td>\n",
       "      <td>-25.2</td>\n",
       "    </tr>\n",
       "    <tr>\n",
       "      <th>3</th>\n",
       "      <td>2010-08-14</td>\n",
       "      <td>-1.0</td>\n",
       "      <td>-1.2</td>\n",
       "      <td>25.0</td>\n",
       "      <td>-27.0</td>\n",
       "    </tr>\n",
       "    <tr>\n",
       "      <th>4</th>\n",
       "      <td>2010-09-07</td>\n",
       "      <td>-1.2</td>\n",
       "      <td>-1.2</td>\n",
       "      <td>24.8</td>\n",
       "      <td>-27.2</td>\n",
       "    </tr>\n",
       "  </tbody>\n",
       "</table>\n",
       "</div>"
      ],
      "text/plain": [
       "        date  deformation  defo_est  deformation_high  deformation_low\n",
       "0 2010-06-03          0.0      -1.1              26.0            -26.0\n",
       "1 2010-06-27         -1.4      -1.1              24.6            -27.4\n",
       "2 2010-07-21          0.8      -1.2              26.8            -25.2\n",
       "3 2010-08-14         -1.0      -1.2              25.0            -27.0\n",
       "4 2010-09-07         -1.2      -1.2              24.8            -27.2"
      ]
     },
     "execution_count": 284,
     "metadata": {},
     "output_type": "execute_result"
    }
   ],
   "source": [
    "df= typeconverter(df1)\n",
    "df.head()"
   ]
  },
  {
   "cell_type": "code",
   "execution_count": 285,
   "metadata": {},
   "outputs": [
    {
     "data": {
      "text/plain": [
       "date                datetime64[ns]\n",
       "deformation                float64\n",
       "defo_est                   float64\n",
       "deformation_high           float64\n",
       "deformation_low            float64\n",
       "dtype: object"
      ]
     },
     "execution_count": 285,
     "metadata": {},
     "output_type": "execute_result"
    }
   ],
   "source": [
    "df.dtypes"
   ]
  },
  {
   "cell_type": "code",
   "execution_count": 208,
   "metadata": {},
   "outputs": [],
   "source": [
    "\n"
   ]
  },
  {
   "cell_type": "code",
   "execution_count": null,
   "metadata": {},
   "outputs": [],
   "source": []
  },
  {
   "cell_type": "code",
   "execution_count": null,
   "metadata": {},
   "outputs": [],
   "source": []
  },
  {
   "cell_type": "code",
   "execution_count": null,
   "metadata": {},
   "outputs": [],
   "source": []
  },
  {
   "cell_type": "code",
   "execution_count": null,
   "metadata": {},
   "outputs": [],
   "source": []
  },
  {
   "cell_type": "code",
   "execution_count": null,
   "metadata": {},
   "outputs": [],
   "source": []
  },
  {
   "cell_type": "code",
   "execution_count": null,
   "metadata": {},
   "outputs": [],
   "source": []
  }
 ],
 "metadata": {
  "kernelspec": {
   "display_name": "Python 3",
   "language": "python",
   "name": "python3"
  },
  "language_info": {
   "codemirror_mode": {
    "name": "ipython",
    "version": 3
   },
   "file_extension": ".py",
   "mimetype": "text/x-python",
   "name": "python",
   "nbconvert_exporter": "python",
   "pygments_lexer": "ipython3",
   "version": "3.7.1"
  }
 },
 "nbformat": 4,
 "nbformat_minor": 2
}
