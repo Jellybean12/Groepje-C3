{
 "cells": [
  {
   "cell_type": "code",
   "execution_count": 64,
   "metadata": {},
   "outputs": [],
   "source": [
    "import numpy as np\n",
    "import pandas as pd\n",
    "import seaborn as sns\n",
    "import csv\n",
    "import datetime\n",
    "import sys\n",
    "from datetime import datetime\n",
    "%matplotlib inline\n",
    "%config IPCompleter.greedy = True"
   ]
  },
  {
   "cell_type": "code",
   "execution_count": 65,
   "metadata": {},
   "outputs": [],
   "source": [
    "df= pd.read_csv(\"test.csv\")"
   ]
  },
  {
   "cell_type": "code",
   "execution_count": 70,
   "metadata": {
    "scrolled": true
   },
   "outputs": [
    {
     "data": {
      "text/plain": [
       "locatie\n",
       "Oude Hengelosedijk Enschede    52.232264\n",
       "Wullenweg Enschede             52.230374\n",
       "Name: pnt_lat, dtype: float64"
      ]
     },
     "execution_count": 70,
     "metadata": {},
     "output_type": "execute_result"
    }
   ],
   "source": []
  },
  {
   "cell_type": "code",
   "execution_count": 71,
   "metadata": {},
   "outputs": [],
   "source": [
    "def gemiddeldedalingperlocatie(df):\n",
    "    return df.groupby('locatie').mean()\n",
    "    "
   ]
  },
  {
   "cell_type": "code",
   "execution_count": 73,
   "metadata": {},
   "outputs": [
    {
     "data": {
      "text/html": [
       "<div>\n",
       "<style scoped>\n",
       "    .dataframe tbody tr th:only-of-type {\n",
       "        vertical-align: middle;\n",
       "    }\n",
       "\n",
       "    .dataframe tbody tr th {\n",
       "        vertical-align: top;\n",
       "    }\n",
       "\n",
       "    .dataframe thead th {\n",
       "        text-align: right;\n",
       "    }\n",
       "</style>\n",
       "<table border=\"1\" class=\"dataframe\">\n",
       "  <thead>\n",
       "    <tr style=\"text-align: right;\">\n",
       "      <th></th>\n",
       "      <th>boorid</th>\n",
       "      <th>minlon</th>\n",
       "      <th>maxlon</th>\n",
       "      <th>minlat</th>\n",
       "      <th>maxlat</th>\n",
       "      <th>pnt_lon</th>\n",
       "      <th>pnt_lat</th>\n",
       "    </tr>\n",
       "    <tr>\n",
       "      <th>locatie</th>\n",
       "      <th></th>\n",
       "      <th></th>\n",
       "      <th></th>\n",
       "      <th></th>\n",
       "      <th></th>\n",
       "      <th></th>\n",
       "      <th></th>\n",
       "    </tr>\n",
       "  </thead>\n",
       "  <tbody>\n",
       "    <tr>\n",
       "      <th>Oude Hengelosedijk Enschede</th>\n",
       "      <td>132</td>\n",
       "      <td>6.780218</td>\n",
       "      <td>6.782914</td>\n",
       "      <td>52.231643</td>\n",
       "      <td>52.234339</td>\n",
       "      <td>6.782737</td>\n",
       "      <td>52.232264</td>\n",
       "    </tr>\n",
       "    <tr>\n",
       "      <th>Wullenweg Enschede</th>\n",
       "      <td>357</td>\n",
       "      <td>6.778039</td>\n",
       "      <td>6.780735</td>\n",
       "      <td>52.228275</td>\n",
       "      <td>52.230971</td>\n",
       "      <td>6.779337</td>\n",
       "      <td>52.230374</td>\n",
       "    </tr>\n",
       "  </tbody>\n",
       "</table>\n",
       "</div>"
      ],
      "text/plain": [
       "                             boorid    minlon    maxlon     minlat     maxlat  \\\n",
       "locatie                                                                         \n",
       "Oude Hengelosedijk Enschede     132  6.780218  6.782914  52.231643  52.234339   \n",
       "Wullenweg Enschede              357  6.778039  6.780735  52.228275  52.230971   \n",
       "\n",
       "                              pnt_lon    pnt_lat  \n",
       "locatie                                           \n",
       "Oude Hengelosedijk Enschede  6.782737  52.232264  \n",
       "Wullenweg Enschede           6.779337  52.230374  "
      ]
     },
     "execution_count": 73,
     "metadata": {},
     "output_type": "execute_result"
    }
   ],
   "source": [
    "\n",
    "gemiddeldedalingperlocatie(df)"
   ]
  },
  {
   "cell_type": "code",
   "execution_count": null,
   "metadata": {},
   "outputs": [],
   "source": []
  },
  {
   "cell_type": "code",
   "execution_count": null,
   "metadata": {},
   "outputs": [],
   "source": []
  }
 ],
 "metadata": {
  "kernelspec": {
   "display_name": "Python 3",
   "language": "python",
   "name": "python3"
  },
  "language_info": {
   "codemirror_mode": {
    "name": "ipython",
    "version": 3
   },
   "file_extension": ".py",
   "mimetype": "text/x-python",
   "name": "python",
   "nbconvert_exporter": "python",
   "pygments_lexer": "ipython3",
   "version": "3.7.3"
  }
 },
 "nbformat": 4,
 "nbformat_minor": 2
}
