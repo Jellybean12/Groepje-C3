{
 "cells": [
  {
   "cell_type": "markdown",
   "metadata": {},
   "source": [
    "# Inhoud van één zin beschrijven"
   ]
  },
  {
   "cell_type": "code",
   "execution_count": 1,
   "metadata": {},
   "outputs": [],
   "source": [
    "# Importeren van packages die gebruikt worden\n",
    "import pandas as pd \n",
    "\n",
    "# libraries voor werken met tekstgegevens\n",
    "import re       # regular expressions\n",
    "import operator # gebruiken van C functie (https://docs.python.org/3.0/library/operator.html)\n",
    "\n",
    "# packages voor visualisatie\n",
    "import matplotlib.pyplot as plt\n",
    "%matplotlib inline"
   ]
  },
  {
   "cell_type": "markdown",
   "metadata": {},
   "source": [
    "Stap 1 is het verkrijgen van de te analyseren tekst(en). Deze les beginnen we met het beschrijven van één zin en bouwen we dit langzaam uit."
   ]
  },
  {
   "cell_type": "code",
   "execution_count": 2,
   "metadata": {},
   "outputs": [],
   "source": [
    "tekst = \"Op een dag las ik een boek en heel mijn 7 levens veranderden. Heel mooi!\""
   ]
  },
  {
   "cell_type": "markdown",
   "metadata": {},
   "source": [
    "Stap 2 is het pre-processen van de te analyseren tekst.\n",
    "We willen dit straks kunnen hergebruiken voor langere teksten, dus maken functies aan waar mogelijk."
   ]
  },
  {
   "cell_type": "code",
   "execution_count": 3,
   "metadata": {},
   "outputs": [],
   "source": [
    "# Opbouwen van een woordvector waarbij elk woord wordt weergegeven in kleine letters\n",
    "\n",
    "def tekstvoorbereid (InputTekst):\n",
    "    input_klein = InputTekst.lower()\n",
    "    woordvector = input_klein.split()\n",
    "    return woordvector\n",
    "\n"
   ]
  },
  {
   "cell_type": "markdown",
   "metadata": {},
   "source": [
    "Herschrijf de functie 'tekstvoorbereid' zo kort mogelijk."
   ]
  },
  {
   "cell_type": "code",
   "execution_count": 4,
   "metadata": {},
   "outputs": [],
   "source": [
    "# HERSCHRIJF DE FUNCTIE\n",
    "\n",
    "def tekstvoorbereid (InputTekst):\n",
    "    return InputTekst.lower().split()"
   ]
  },
  {
   "cell_type": "markdown",
   "metadata": {},
   "source": [
    "De functie wordt aangeroepen en heeft als resultaat een woordvector. "
   ]
  },
  {
   "cell_type": "code",
   "execution_count": 5,
   "metadata": {},
   "outputs": [],
   "source": [
    "vector = tekstvoorbereid(tekst)"
   ]
  },
  {
   "cell_type": "code",
   "execution_count": 6,
   "metadata": {},
   "outputs": [
    {
     "data": {
      "text/plain": [
       "['op',\n",
       " 'een',\n",
       " 'dag',\n",
       " 'las',\n",
       " 'ik',\n",
       " 'een',\n",
       " 'boek',\n",
       " 'en',\n",
       " 'heel',\n",
       " 'mijn',\n",
       " '7',\n",
       " 'levens',\n",
       " 'veranderden.',\n",
       " 'heel',\n",
       " 'mooi!']"
      ]
     },
     "execution_count": 6,
     "metadata": {},
     "output_type": "execute_result"
    }
   ],
   "source": [
    "# Bekijk de opgebouwde woordvector\n",
    "vector"
   ]
  },
  {
   "cell_type": "markdown",
   "metadata": {},
   "source": [
    "De woordvector bevat nu nog leestekens (interpunctie). Voor het analyseren van de woorden in een tekst is het nodig om de tekst eerst op te schonen door lees- en bijzondere tekens te verwijderen. Daarna wordt de woordvector opgebouwd. \n",
    "\n",
    "Het opschonen van een punt is gegeven. Zorg dat ook andere leestekens worden verwijderd m.b.v. de split-methode \n",
    "van regular expressions."
   ]
  },
  {
   "cell_type": "code",
   "execution_count": 7,
   "metadata": {},
   "outputs": [],
   "source": [
    "\"\"\"\n",
    "Verwijderen van leestekens en andere bijzondere tekens uit de tekst. \n",
    "Vul de functie aan zoals gevraagd.\n",
    "\"\"\"\n",
    "\n",
    "def opschonen (InputTekst):\n",
    "    GeenInterpunctie = re.split('[\\.\\!]', InputTekst)\n",
    "    #split op alle \".\" (nog uitbreiden met \"!\")\n",
    "    #????? GeenInterpunctie = [char for char in GeenInterpunctie]\n",
    "    GeenInterpunctie = \"\".join(GeenInterpunctie)\n",
    "    #plak alle strings achter elkaar\n",
    "    return GeenInterpunctie"
   ]
  },
  {
   "cell_type": "code",
   "execution_count": 8,
   "metadata": {},
   "outputs": [
    {
     "data": {
      "text/plain": [
       "'Op een dag las ik een boek en heel mijn 7 levens veranderden Heel mooi'"
      ]
     },
     "execution_count": 8,
     "metadata": {},
     "output_type": "execute_result"
    }
   ],
   "source": [
    "schoon = opschonen (tekst)\n",
    "schoon"
   ]
  },
  {
   "cell_type": "code",
   "execution_count": 9,
   "metadata": {},
   "outputs": [],
   "source": [
    "vector = tekstvoorbereid (schoon)"
   ]
  },
  {
   "cell_type": "code",
   "execution_count": 10,
   "metadata": {},
   "outputs": [
    {
     "data": {
      "text/plain": [
       "['op',\n",
       " 'een',\n",
       " 'dag',\n",
       " 'las',\n",
       " 'ik',\n",
       " 'een',\n",
       " 'boek',\n",
       " 'en',\n",
       " 'heel',\n",
       " 'mijn',\n",
       " '7',\n",
       " 'levens',\n",
       " 'veranderden',\n",
       " 'heel',\n",
       " 'mooi']"
      ]
     },
     "execution_count": 10,
     "metadata": {},
     "output_type": "execute_result"
    }
   ],
   "source": [
    "vector"
   ]
  },
  {
   "cell_type": "markdown",
   "metadata": {},
   "source": [
    "Een woordwolk geeft de woorden die in een tekst voorkomen weer. De frequentie waarmee een woord voorkomt in een tekst bepaald hoe groot het woord wordt afgebeeld. Daarom willen we bepalen hoevaak ieder woord voorkomt in de tekst."
   ]
  },
  {
   "cell_type": "code",
   "execution_count": 11,
   "metadata": {},
   "outputs": [],
   "source": [
    "# Tellen van woorden in een vector\n",
    "# Maakt gebruik van de operator module uit Python\n",
    "\n",
    "\n",
    "def tellen(vector):\n",
    "    freq={}\n",
    "    for woord in vector:\n",
    "        if woord in freq:\n",
    "            freq[woord] +=1\n",
    "        else:\n",
    "            freq[woord] = 1\n",
    "    sorted_freq = sorted(freq.items(), key=operator.itemgetter(1), reverse=True)\n",
    "    #sorted_freq = gesorteerde freq op basis van de value (als key itemgetter(1) en dat gereversed. \n",
    "    #Mag ook met lambdafunctie, maar dan geen reverse\n",
    "    #sorted_freq = sorted(freq.items(), key=lambda value: value[1])\n",
    "    return sorted_freq"
   ]
  },
  {
   "cell_type": "code",
   "execution_count": 12,
   "metadata": {},
   "outputs": [
    {
     "data": {
      "text/plain": [
       "[('een', 2),\n",
       " ('heel', 2),\n",
       " ('op', 1),\n",
       " ('dag', 1),\n",
       " ('las', 1),\n",
       " ('ik', 1),\n",
       " ('boek', 1),\n",
       " ('en', 1),\n",
       " ('mijn', 1),\n",
       " ('7', 1),\n",
       " ('levens', 1),\n",
       " ('veranderden', 1),\n",
       " ('mooi', 1)]"
      ]
     },
     "execution_count": 12,
     "metadata": {},
     "output_type": "execute_result"
    }
   ],
   "source": [
    "tellen(vector)"
   ]
  },
  {
   "cell_type": "markdown",
   "metadata": {},
   "source": [
    "Het meestvoorkomende woord in de ingevoerde tekst blijkt 'een' te zijn. Voor het analyseren van teksten verwijder je dit soort stopwoorden (lidwoorden, voegwoorden, etc.). Maak een dictionary aan met deze Nederlandse lidwoorden en voegwoorden. "
   ]
  },
  {
   "cell_type": "code",
   "execution_count": 13,
   "metadata": {},
   "outputs": [],
   "source": [
    "stopwoorden = {'de', 'het', 'een','en', 'op'}\n",
    "#zelf bedenken"
   ]
  },
  {
   "cell_type": "code",
   "execution_count": 14,
   "metadata": {},
   "outputs": [],
   "source": [
    "def StopwoordenVerwijderen(InputTekst):\n",
    "    schoon=[]\n",
    "    for woord in InputTekst.split():\n",
    "        if woord.lower() not in stopwoorden:\n",
    "            schoon.append(woord)\n",
    "    return schoon"
   ]
  },
  {
   "cell_type": "code",
   "execution_count": 15,
   "metadata": {},
   "outputs": [],
   "source": [
    "# kortste alternatief\n",
    "def StopwoordenVerwijderen (InputTekst):\n",
    "    return [woord for woord in InputTekst.split() if woord not in stopwoorden]\n"
   ]
  },
  {
   "cell_type": "code",
   "execution_count": 16,
   "metadata": {
    "scrolled": true
   },
   "outputs": [
    {
     "data": {
      "text/plain": [
       "['Op',\n",
       " 'dag',\n",
       " 'las',\n",
       " 'ik',\n",
       " 'boek',\n",
       " 'heel',\n",
       " 'mijn',\n",
       " '7',\n",
       " 'levens',\n",
       " 'veranderden',\n",
       " 'Heel',\n",
       " 'mooi']"
      ]
     },
     "execution_count": 16,
     "metadata": {},
     "output_type": "execute_result"
    }
   ],
   "source": [
    "StopwoordenVerwijderen(schoon)"
   ]
  },
  {
   "cell_type": "markdown",
   "metadata": {},
   "source": [
    "Combineer de functies voor het opschonen, verwijderen van stopwoorden en tellen. Nu heb je een 'bag of words' gedefinieerd."
   ]
  },
  {
   "cell_type": "code",
   "execution_count": 17,
   "metadata": {},
   "outputs": [],
   "source": [
    "BagofWords = tellen(StopwoordenVerwijderen(opschonen(tekst.lower())))"
   ]
  },
  {
   "cell_type": "code",
   "execution_count": 18,
   "metadata": {},
   "outputs": [
    {
     "data": {
      "text/plain": [
       "[('heel', 2),\n",
       " ('dag', 1),\n",
       " ('las', 1),\n",
       " ('ik', 1),\n",
       " ('boek', 1),\n",
       " ('mijn', 1),\n",
       " ('7', 1),\n",
       " ('levens', 1),\n",
       " ('veranderden', 1),\n",
       " ('mooi', 1)]"
      ]
     },
     "execution_count": 18,
     "metadata": {},
     "output_type": "execute_result"
    }
   ],
   "source": [
    "BagofWords"
   ]
  },
  {
   "cell_type": "markdown",
   "metadata": {},
   "source": [
    "Maak een grafiek die weergeeft hoevaak een woord wordt gebruikt in een tekst. Op deze manier kun je in één oogopslag belangrijke woorden vaststellen."
   ]
  },
  {
   "cell_type": "code",
   "execution_count": 19,
   "metadata": {},
   "outputs": [],
   "source": [
    "bow = pd.DataFrame(BagofWords, columns=['woord','aantal'])\n",
    "#eerst omzetten dataframe"
   ]
  },
  {
   "cell_type": "code",
   "execution_count": 20,
   "metadata": {},
   "outputs": [
    {
     "data": {
      "text/html": [
       "<div>\n",
       "<style scoped>\n",
       "    .dataframe tbody tr th:only-of-type {\n",
       "        vertical-align: middle;\n",
       "    }\n",
       "\n",
       "    .dataframe tbody tr th {\n",
       "        vertical-align: top;\n",
       "    }\n",
       "\n",
       "    .dataframe thead th {\n",
       "        text-align: right;\n",
       "    }\n",
       "</style>\n",
       "<table border=\"1\" class=\"dataframe\">\n",
       "  <thead>\n",
       "    <tr style=\"text-align: right;\">\n",
       "      <th></th>\n",
       "      <th>woord</th>\n",
       "      <th>aantal</th>\n",
       "    </tr>\n",
       "  </thead>\n",
       "  <tbody>\n",
       "    <tr>\n",
       "      <th>0</th>\n",
       "      <td>heel</td>\n",
       "      <td>2</td>\n",
       "    </tr>\n",
       "    <tr>\n",
       "      <th>1</th>\n",
       "      <td>dag</td>\n",
       "      <td>1</td>\n",
       "    </tr>\n",
       "    <tr>\n",
       "      <th>2</th>\n",
       "      <td>las</td>\n",
       "      <td>1</td>\n",
       "    </tr>\n",
       "    <tr>\n",
       "      <th>3</th>\n",
       "      <td>ik</td>\n",
       "      <td>1</td>\n",
       "    </tr>\n",
       "    <tr>\n",
       "      <th>4</th>\n",
       "      <td>boek</td>\n",
       "      <td>1</td>\n",
       "    </tr>\n",
       "    <tr>\n",
       "      <th>5</th>\n",
       "      <td>mijn</td>\n",
       "      <td>1</td>\n",
       "    </tr>\n",
       "    <tr>\n",
       "      <th>6</th>\n",
       "      <td>7</td>\n",
       "      <td>1</td>\n",
       "    </tr>\n",
       "    <tr>\n",
       "      <th>7</th>\n",
       "      <td>levens</td>\n",
       "      <td>1</td>\n",
       "    </tr>\n",
       "    <tr>\n",
       "      <th>8</th>\n",
       "      <td>veranderden</td>\n",
       "      <td>1</td>\n",
       "    </tr>\n",
       "    <tr>\n",
       "      <th>9</th>\n",
       "      <td>mooi</td>\n",
       "      <td>1</td>\n",
       "    </tr>\n",
       "  </tbody>\n",
       "</table>\n",
       "</div>"
      ],
      "text/plain": [
       "         woord  aantal\n",
       "0         heel       2\n",
       "1          dag       1\n",
       "2          las       1\n",
       "3           ik       1\n",
       "4         boek       1\n",
       "5         mijn       1\n",
       "6            7       1\n",
       "7       levens       1\n",
       "8  veranderden       1\n",
       "9         mooi       1"
      ]
     },
     "execution_count": 20,
     "metadata": {},
     "output_type": "execute_result"
    }
   ],
   "source": [
    "bow"
   ]
  },
  {
   "cell_type": "code",
   "execution_count": 21,
   "metadata": {},
   "outputs": [
    {
     "data": {
      "text/plain": [
       "<matplotlib.axes._subplots.AxesSubplot at 0x1221ff5c0>"
      ]
     },
     "execution_count": 21,
     "metadata": {},
     "output_type": "execute_result"
    },
    {
     "data": {
      "image/png": "[encoded data removed]",
      "text/plain": [
       "<Figure size 432x288 with 1 Axes>"
      ]
     },
     "metadata": {
      "needs_background": "light"
     },
     "output_type": "display_data"
    }
   ],
   "source": [
    "bow.plot(x='woord', kind='bar')"
   ]
  },
  {
   "cell_type": "markdown",
   "metadata": {},
   "source": [
    "Van de bovenstaande stappen maken we ook weer een functie zodat het hergebruik vereenvoudigd wordt."
   ]
  },
  {
   "cell_type": "code",
   "execution_count": 22,
   "metadata": {},
   "outputs": [],
   "source": [
    "# Opbouwen bag of words uit een tekst\n",
    "# Weergeven van bag of wordst in een bar chart\n",
    "\n",
    "\n",
    "def bowChart(InputTekst):\n",
    "    BagofWords = pd.DataFrame(tellen(StopwoordenVerwijderen(opschonen(InputTekst.lower()))), columns=['woord','aantal'])\n",
    "    Plot = BagofWords.plot(x='woord', kind='bar')\n",
    "    return Plot"
   ]
  },
  {
   "cell_type": "code",
   "execution_count": 23,
   "metadata": {},
   "outputs": [
    {
     "data": {
      "text/plain": [
       "<matplotlib.axes._subplots.AxesSubplot at 0x122534f60>"
      ]
     },
     "execution_count": 23,
     "metadata": {},
     "output_type": "execute_result"
    },
    {
     "data": {
      "image/png": "[encoded data removed]",
      "text/plain": [
       "<Figure size 432x288 with 1 Axes>"
      ]
     },
     "metadata": {
      "needs_background": "light"
     },
     "output_type": "display_data"
    }
   ],
   "source": [
    "bowChart(tekst)"
   ]
  },
  {
   "cell_type": "markdown",
   "metadata": {},
   "source": [
    "# Inhoud van meerdere zinnen beschrijven\n",
    "Ga naar je favoriete nieuwssite en kopieer in de cel hieronder de eerste zinnen uit een artikel in 'nieuws'."
   ]
  },
  {
   "cell_type": "code",
   "execution_count": null,
   "metadata": {
    "collapsed": true
   },
   "outputs": [],
   "source": [
    "nieuws = \"___________\""
   ]
  },
  {
   "cell_type": "code",
   "execution_count": null,
   "metadata": {
    "collapsed": true
   },
   "outputs": [],
   "source": [
    "bowChart(______)"
   ]
  }
 ],
 "metadata": {
  "kernelspec": {
   "display_name": "Python 3",
   "language": "python",
   "name": "python3"
  },
  "language_info": {
   "codemirror_mode": {
    "name": "ipython",
    "version": 3
   },
   "file_extension": ".py",
   "mimetype": "text/x-python",
   "name": "python",
   "nbconvert_exporter": "python",
   "pygments_lexer": "ipython3",
   "version": "3.7.3"
  }
 },
 "nbformat": 4,
 "nbformat_minor": 2
}
